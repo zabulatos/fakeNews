{
 "cells": [
  {
   "cell_type": "code",
   "id": "initial_id",
   "metadata": {
    "collapsed": true,
    "ExecuteTime": {
     "end_time": "2024-04-28T02:40:43.542402Z",
     "start_time": "2024-04-28T02:40:43.503725Z"
    }
   },
   "source": [
    "from sklearn.feature_extraction.text import TfidfVectorizer\n",
    "# This line imports the TfidfVectorizer class from the sklearn.feature_extraction.text module. TfidfVectorizer is used to convert a collection of raw documents into a matrix of TF-IDF features.\n",
    "\n",
    "# This line imports the LogisticRegression class from the sklearn.linear_model module\n",
    "from sklearn.linear_model import LogisticRegression\n",
    "\n",
    "# This line imports the pandas library and gives it the alias pd. pandas is a powerful data manipulation library in Python, commonly used for working with structured data.\n",
    "import pandas as pd\n",
    "\n",
    "# This line imports the pickle module, which is used for serializing and deserializing Python objects. It allows us to save Python objects (such as models) to files and load them back into memory later.\n",
    "import pickle\n",
    "\n",
    "# Load the dataset\n",
    "# This line reads a CSV file named 'True.csv' into a pandas DataFrame named df. This CSV file likely contains labeled data, such as news headlines and their corresponding labels (e.g., 'REAL' or 'FAKE').\n",
    "df = pd.read_csv('True.csv')\n",
    "\n",
    "# Preprocess the data\n",
    "# TfidfVectorizer(stop_words='english'): This line initializes a TfidfVectorizer object with English stop words removed. Stop words are common words (e.g., 'the', 'is', 'and') that are often removed from text data because they carry little semantic meaning.\n",
    "vectorizer = TfidfVectorizer(stop_words='english')\n",
    "\n",
    "# vectorizer.fit_transform(df['title']): This line uses the fit_transform method of the TfidfVectorizer object to transform the text data in the 'title' column of the DataFrame df into a TF-IDF matrix X. Each row of X represents a document, and each column represents a unique word in the corpus.\n",
    "X = vectorizer.fit_transform(df['title'])\n",
    "\n",
    "# df['label']: This line extracts the labels from the 'label' column of the DataFrame df and assigns them to the variable y. These labels will be used as the target variable for training the classification model.\n",
    "y = df['label']\n",
    "\n",
    "# Train the model\n",
    "# This line initializes a logistic regression model object.\n",
    "model = LogisticRegression()\n",
    "\n",
    "\n",
    "# model.fit(X, y): This line trains the logistic regression model on the features X (TF-IDF matrix) and the target variable y (labels).\n",
    "model.fit(X, y)\n",
    "\n",
    "# Save the model to a file\n",
    "# This line opens a file named 'model.pkl' in write-binary mode. The file will be used to store the trained logistic regression model.\n",
    "with open('model.pkl', 'wb') as f:\n",
    "    \n",
    "# This line serializes (pickles) the trained logistic regression model model and writes it to the file f.\n",
    "    pickle.dump(model, f)\n",
    "\n",
    "# Save the vectorizer to a file\n",
    "# This line opens a file named 'vectorizer.pkl' in write-binary mode. The file will be used to store the trained TF-IDF vectorizer.\n",
    "with open('vectorizer.pkl', 'wb') as f:\n",
    "# This line serializes (pickles) the trained TF-IDF vectorizer vectorizer and writes it to the file f.\n",
    "    pickle.dump(vectorizer, f)\n"
   ],
   "outputs": [],
   "execution_count": 12
  },
  {
   "metadata": {
    "ExecuteTime": {
     "end_time": "2024-04-28T02:38:17.859764Z",
     "start_time": "2024-04-28T02:38:17.843347Z"
    }
   },
   "cell_type": "code",
   "source": "",
   "id": "6b41015a6c71bb3f",
   "outputs": [],
   "execution_count": 4
  }
 ],
 "metadata": {
  "kernelspec": {
   "display_name": "Python 3",
   "language": "python",
   "name": "python3"
  },
  "language_info": {
   "codemirror_mode": {
    "name": "ipython",
    "version": 2
   },
   "file_extension": ".py",
   "mimetype": "text/x-python",
   "name": "python",
   "nbconvert_exporter": "python",
   "pygments_lexer": "ipython2",
   "version": "2.7.6"
  }
 },
 "nbformat": 4,
 "nbformat_minor": 5
}
